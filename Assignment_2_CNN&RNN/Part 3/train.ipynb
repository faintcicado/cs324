{
 "cells": [
  {
   "cell_type": "code",
   "execution_count": 3,
   "metadata": {},
   "outputs": [
    {
     "name": "stdout",
     "output_type": "stream",
     "text": [
      "[0/2] Loss: 2.4308, Accuracy: 0.1172\n",
      "Epoch 1/1000, Train Loss: 2.4431, Train Accuracy: 0.0912, Val Loss: 2.4352, Val Accuracy: 0.1050\n",
      "^C\n",
      "Traceback (most recent call last):\n",
      "  File \"/Users/yjzhou/myworkspace/cs324/Assignment_2_CNN&RNN/Part 3/train.py\", line 156, in <module>\n",
      "    main(config)\n",
      "  File \"/Users/yjzhou/myworkspace/cs324/Assignment_2_CNN&RNN/Part 3/train.py\", line 93, in main\n",
      "    train_loss, train_acc = train(model, train_dloader, optimizer, criterion, device, config)\n",
      "                            ^^^^^^^^^^^^^^^^^^^^^^^^^^^^^^^^^^^^^^^^^^^^^^^^^^^^^^^^^^^^^^^^^\n",
      "  File \"/Users/yjzhou/myworkspace/cs324/Assignment_2_CNN&RNN/Part 3/train.py\", line 20, in train\n",
      "    for step, (batch_inputs, batch_targets) in enumerate(data_loader):\n",
      "                                               ^^^^^^^^^^^^^^^^^^^^^^\n",
      "  File \"/opt/anaconda3/envs/dl/lib/python3.12/site-packages/torch/utils/data/dataloader.py\", line 701, in __next__\n",
      "    data = self._next_data()\n",
      "           ^^^^^^^^^^^^^^^^^\n",
      "  File \"/opt/anaconda3/envs/dl/lib/python3.12/site-packages/torch/utils/data/dataloader.py\", line 1437, in _next_data\n",
      "    self._shutdown_workers()\n",
      "  File \"/opt/anaconda3/envs/dl/lib/python3.12/site-packages/torch/utils/data/dataloader.py\", line 1568, in _shutdown_workers\n",
      "    w.join(timeout=_utils.MP_STATUS_CHECK_INTERVAL)\n",
      "  File \"/opt/anaconda3/envs/dl/lib/python3.12/multiprocessing/process.py\", line 149, in join\n",
      "    res = self._popen.wait(timeout)\n",
      "          ^^^^^^^^^^^^^^^^^^^^^^^^^\n",
      "  File \"/opt/anaconda3/envs/dl/lib/python3.12/multiprocessing/popen_fork.py\", line 40, in wait\n",
      "    if not wait([self.sentinel], timeout):\n",
      "           ^^^^^^^^^^^^^^^^^^^^^^^^^^^^^^\n",
      "  File \"/opt/anaconda3/envs/dl/lib/python3.12/multiprocessing/connection.py\", line 1136, in wait\n",
      "    ready = selector.select(timeout)\n",
      "            ^^^^^^^^^^^^^^^^^^^^^^^^\n",
      "  File \"/opt/anaconda3/envs/dl/lib/python3.12/selectors.py\", line 415, in select\n",
      "    fd_event_list = self._selector.poll(timeout)\n",
      "                    ^^^^^^^^^^^^^^^^^^^^^^^^^^^^\n",
      "KeyboardInterrupt\n"
     ]
    }
   ],
   "source": [
    "!python train.py --input_length 4"
   ]
  }
 ],
 "metadata": {
  "kernelspec": {
   "display_name": "dl",
   "language": "python",
   "name": "python3"
  },
  "language_info": {
   "codemirror_mode": {
    "name": "ipython",
    "version": 3
   },
   "file_extension": ".py",
   "mimetype": "text/x-python",
   "name": "python",
   "nbconvert_exporter": "python",
   "pygments_lexer": "ipython3",
   "version": "3.12.8"
  }
 },
 "nbformat": 4,
 "nbformat_minor": 2
}
